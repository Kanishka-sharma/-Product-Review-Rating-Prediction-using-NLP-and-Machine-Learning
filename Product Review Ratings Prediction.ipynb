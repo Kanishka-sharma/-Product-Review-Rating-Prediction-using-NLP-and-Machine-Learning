{
 "cells": [
  {
   "cell_type": "code",
   "execution_count": 1,
   "id": "21269cbf",
   "metadata": {},
   "outputs": [
    {
     "name": "stderr",
     "output_type": "stream",
     "text": [
      "<ipython-input-1-119d1d15d091>:2: DeprecationWarning: \n",
      "Pyarrow will become a required dependency of pandas in the next major release of pandas (pandas 3.0),\n",
      "(to allow more performant data types, such as the Arrow string type, and better interoperability with other libraries)\n",
      "but was not found to be installed on your system.\n",
      "If this would cause problems for you,\n",
      "please provide us feedback at https://github.com/pandas-dev/pandas/issues/54466\n",
      "        \n",
      "  import pandas as pd\n"
     ]
    }
   ],
   "source": [
    "import numpy as np\n",
    "import pandas as pd\n",
    "import pickle\n",
    "import nltk\n",
    "import string\n",
    "import matplotlib.pyplot as plt\n",
    "import seaborn as sns\n",
    "import tensorflow as tf\n",
    "import random\n",
    "from nltk.corpus import stopwords\n",
    "from nltk.tokenize import word_tokenize\n",
    "from nltk.stem import WordNetLemmatizer\n",
    "from sklearn.model_selection import train_test_split, cross_val_score\n",
    "from sklearn.preprocessing import LabelEncoder \n",
    "from sklearn.utils import resample\n",
    "from sklearn.pipeline import Pipeline\n",
    "from sklearn.feature_extraction.text import TfidfVectorizer\n",
    "from sklearn.naive_bayes import MultinomialNB\n",
    "from sklearn.pipeline import make_pipeline\n",
    "from sklearn.neighbors import KNeighborsClassifier\n",
    "from sklearn.metrics import accuracy_score, classification_report\n",
    "from sklearn.metrics import confusion_matrix, accuracy_score, f1_score, precision_score, recall_score\n",
    "from tensorflow.keras.models import Sequential\n",
    "from tensorflow.keras.layers import Embedding, Conv1D, MaxPooling1D, GlobalMaxPooling1D, Dense, Dropout, Flatten, LSTM, SpatialDropout1D, Bidirectional\n",
    "from tensorflow.keras.preprocessing.text import Tokenizer\n",
    "from tensorflow.keras.preprocessing.sequence import pad_sequences\n",
    "from tensorflow.keras.optimizers import Adam\n",
    "from tensorflow.keras.callbacks import EarlyStopping\n",
    "from tensorflow.keras.models import load_model\n",
    "import joblib "
   ]
  },
  {
   "cell_type": "code",
   "execution_count": 2,
   "id": "a57fe4c1",
   "metadata": {},
   "outputs": [
    {
     "name": "stderr",
     "output_type": "stream",
     "text": [
      "[nltk_data] Downloading package punkt to /home3/xxxs67/nltk_data...\n",
      "[nltk_data]   Package punkt is already up-to-date!\n",
      "[nltk_data] Downloading package stopwords to\n",
      "[nltk_data]     /home3/xxxs67/nltk_data...\n",
      "[nltk_data]   Package stopwords is already up-to-date!\n",
      "[nltk_data] Downloading package wordnet to /home3/xxxs67/nltk_data...\n",
      "[nltk_data]   Package wordnet is already up-to-date!\n"
     ]
    },
    {
     "data": {
      "text/plain": [
       "True"
      ]
     },
     "execution_count": 2,
     "metadata": {},
     "output_type": "execute_result"
    }
   ],
   "source": [
    "nltk.download('punkt')\n",
    "nltk.download('stopwords')\n",
    "nltk.download('wordnet')"
   ]
  },
  {
   "cell_type": "code",
   "execution_count": 3,
   "id": "968a6463",
   "metadata": {},
   "outputs": [],
   "source": [
    "df = pd.read_csv(\"dataset (4).csv\")"
   ]
  },
  {
   "cell_type": "code",
   "execution_count": 4,
   "id": "1911ce6c",
   "metadata": {},
   "outputs": [
    {
     "data": {
      "text/plain": [
       "(59621, 2)"
      ]
     },
     "execution_count": 4,
     "metadata": {},
     "output_type": "execute_result"
    }
   ],
   "source": [
    "df.shape"
   ]
  },
  {
   "cell_type": "code",
   "execution_count": 5,
   "id": "9459dde8",
   "metadata": {},
   "outputs": [
    {
     "data": {
      "text/html": [
       "<div>\n",
       "<style scoped>\n",
       "    .dataframe tbody tr th:only-of-type {\n",
       "        vertical-align: middle;\n",
       "    }\n",
       "\n",
       "    .dataframe tbody tr th {\n",
       "        vertical-align: top;\n",
       "    }\n",
       "\n",
       "    .dataframe thead th {\n",
       "        text-align: right;\n",
       "    }\n",
       "</style>\n",
       "<table border=\"1\" class=\"dataframe\">\n",
       "  <thead>\n",
       "    <tr style=\"text-align: right;\">\n",
       "      <th></th>\n",
       "      <th>Score</th>\n",
       "      <th>Text</th>\n",
       "    </tr>\n",
       "  </thead>\n",
       "  <tbody>\n",
       "    <tr>\n",
       "      <th>0</th>\n",
       "      <td>4.0</td>\n",
       "      <td>It is a nice made necklace, and the butterfly ...</td>\n",
       "    </tr>\n",
       "    <tr>\n",
       "      <th>1</th>\n",
       "      <td>4.0</td>\n",
       "      <td>I bought this necklace on a whim; I love butte...</td>\n",
       "    </tr>\n",
       "    <tr>\n",
       "      <th>2</th>\n",
       "      <td>5.0</td>\n",
       "      <td>Bought via gold box ,it is much better than I ...</td>\n",
       "    </tr>\n",
       "    <tr>\n",
       "      <th>3</th>\n",
       "      <td>NaN</td>\n",
       "      <td>I love this necklace. It is great for everyday...</td>\n",
       "    </tr>\n",
       "    <tr>\n",
       "      <th>4</th>\n",
       "      <td>5.0</td>\n",
       "      <td>Love this butterfly pendant. Right size, high ...</td>\n",
       "    </tr>\n",
       "  </tbody>\n",
       "</table>\n",
       "</div>"
      ],
      "text/plain": [
       "   Score                                               Text\n",
       "0    4.0  It is a nice made necklace, and the butterfly ...\n",
       "1    4.0  I bought this necklace on a whim; I love butte...\n",
       "2    5.0  Bought via gold box ,it is much better than I ...\n",
       "3    NaN  I love this necklace. It is great for everyday...\n",
       "4    5.0  Love this butterfly pendant. Right size, high ..."
      ]
     },
     "execution_count": 5,
     "metadata": {},
     "output_type": "execute_result"
    }
   ],
   "source": [
    "df.head()"
   ]
  },
  {
   "cell_type": "code",
   "execution_count": 6,
   "id": "6e874984",
   "metadata": {},
   "outputs": [
    {
     "data": {
      "text/plain": [
       "Score    float64\n",
       "Text      object\n",
       "dtype: object"
      ]
     },
     "execution_count": 6,
     "metadata": {},
     "output_type": "execute_result"
    }
   ],
   "source": [
    "df.dtypes"
   ]
  },
  {
   "cell_type": "code",
   "execution_count": 7,
   "id": "85355da1",
   "metadata": {},
   "outputs": [],
   "source": [
    "# Loading a set of common English stopwords to filter out non-informative words.\n",
    "common_stopwords = set(stopwords.words('english'))  \n",
    "\n",
    "# Initializing the WordNetLemmatizer, which reduces words to their base or root form.\n",
    "word_lemmatizer = WordNetLemmatizer()  \n",
    "\n",
    "def clean_text(text):\n",
    "    \"\"\"\n",
    "    Function to preprocess text data by performing the following steps:\n",
    "    1. Handling missing values by replacing NaN with an empty string.\n",
    "    2. Converting all text to lowercase to ensure uniformity.\n",
    "    3. Removing punctuation (except apostrophes) to clean up the text.\n",
    "    4. Tokenizing the text into individual words.\n",
    "    5. Identifying and handling negations (e.g., \"not happy\" → \"not_happy\").\n",
    "    6. Removing common stopwords to retain only meaningful words.\n",
    "    7. Applying lemmatization to convert words to their base form.\n",
    "    8. Returning the cleaned and processed text as a single string.\n",
    "    \"\"\"\n",
    "\n",
    "    # Handling missing values\n",
    "    # If the input text is NaN (missing value),we are replacing it with an empty string\n",
    "    text = text if pd.notna(text) else ''\n",
    "    \n",
    "    # Converting text to lowercase\n",
    "    # This ensures uniformity and prevents duplicate words due to case differences \n",
    "    text = text.lower()\n",
    "    \n",
    "    # Removing punctuation while preserving apostrophes\n",
    "    # `str.maketrans('', '', string.punctuation.replace(\"'\", \"\"))` creates a translation table.\n",
    "    # It removes all punctuation characters except apostrophes to retain contractions.\n",
    "    text = text.translate(str.maketrans('', '', string.punctuation.replace(\"'\", \"\")))\n",
    "   \n",
    "    # Tokenization for splitting the text into individual words (tokens).\n",
    "    # This helps in further processing like removing stopwords and lemmatization.\n",
    "    tokens = word_tokenize(text)\n",
    "\n",
    "    # Defining negation words that need special handling.\n",
    "    negations = {\"not\", \"no\", \"never\", \"isn't\", \"aren't\", \"wasn't\", \"weren't\", \n",
    "                 \"don't\", \"doesn't\", \"didn't\", \"won't\", \"wouldn't\", \"shan't\", \n",
    "                 \"shouldn't\", \"can't\", \"cannot\"}\n",
    "\n",
    "    # Initializing a list to store the processed tokens.\n",
    "    processed_tokens = []\n",
    "    \n",
    "    # Processing tokens while handling negations and removing stopwords.\n",
    "    i = 0  # Initialize a counter for iteration over tokens.\n",
    "    while i < len(tokens):  # Iterate through the list of tokens.\n",
    "        if tokens[i] in negations and i + 1 < len(tokens):  \n",
    "            # If a negation word is found and there's a word after it, combine them into a single token.\n",
    "            # Example: \"not good\" becomes \"not_good\".\n",
    "            processed_tokens.append(tokens[i] + \"_\" + tokens[i + 1])\n",
    "            i += 2  # Skip the next word since it's already combined.\n",
    "        else:\n",
    "            # Applying lemmatization to convert the word to its base form.\n",
    "            word = word_lemmatizer.lemmatize(tokens[i])\n",
    "            \n",
    "            # Removing stopwords and single-character words.\n",
    "            # Stopwords are common words like \"is\", \"the\", and \"in\" that do not contribute much meaning.\n",
    "            # Words with only one character (e.g., \"a\", \"I\") are also removed.\n",
    "            if word not in common_stopwords and len(word) > 1:\n",
    "                processed_tokens.append(word)  # Add meaningful words to the final token list.\n",
    "            \n",
    "            i += 1  # Move to the next word.\n",
    "    \n",
    "    # 10. Convert the processed token list back into a single string.\n",
    "    # If the processed token list is empty (e.g., if all words were stopwords), return None.\n",
    "    return ' '.join(processed_tokens) if processed_tokens else None  \n"
   ]
  },
  {
   "cell_type": "code",
   "execution_count": 8,
   "id": "f566e775",
   "metadata": {},
   "outputs": [],
   "source": [
    "# Apply the text preprocessing function to each row in the 'Text' column  \n",
    "# This ensures all text data is cleaned before further analysis  \n",
    "# The function handles missing values, converts to lowercase, removes punctuation, tokenizes, removes stopwords, and applies lemmatization  \n",
    "df['Cleaned_Text'] = df['Text'].apply(clean_text)"
   ]
  },
  {
   "cell_type": "code",
   "execution_count": 9,
   "id": "a17d27d6",
   "metadata": {},
   "outputs": [],
   "source": [
    "# Remove empty or very short reviews (ensures meaningful data for analysis)  \n",
    "# Splits text into words and keeps only those reviews with more than one word  \n",
    "# Also drops any remaining NaN values for robustness  \n",
    "df = df[df['Cleaned_Text'].str.split().str.len() > 1].dropna()"
   ]
  },
  {
   "cell_type": "code",
   "execution_count": 10,
   "id": "1e64d023",
   "metadata": {},
   "outputs": [],
   "source": [
    "# Convert categorical labels here scores into numerical values  \n",
    "# This allows ML models to process them effectively  \n",
    "label_encoder = LabelEncoder()  \n",
    "df['Encoded_Score'] = label_encoder.fit_transform(df['Score'])  "
   ]
  },
  {
   "cell_type": "code",
   "execution_count": 11,
   "id": "3b163282",
   "metadata": {},
   "outputs": [
    {
     "data": {
      "text/html": [
       "<div>\n",
       "<style scoped>\n",
       "    .dataframe tbody tr th:only-of-type {\n",
       "        vertical-align: middle;\n",
       "    }\n",
       "\n",
       "    .dataframe tbody tr th {\n",
       "        vertical-align: top;\n",
       "    }\n",
       "\n",
       "    .dataframe thead th {\n",
       "        text-align: right;\n",
       "    }\n",
       "</style>\n",
       "<table border=\"1\" class=\"dataframe\">\n",
       "  <thead>\n",
       "    <tr style=\"text-align: right;\">\n",
       "      <th></th>\n",
       "      <th>Score</th>\n",
       "      <th>Text</th>\n",
       "      <th>Cleaned_Text</th>\n",
       "      <th>Encoded_Score</th>\n",
       "    </tr>\n",
       "  </thead>\n",
       "  <tbody>\n",
       "    <tr>\n",
       "      <th>0</th>\n",
       "      <td>4.0</td>\n",
       "      <td>It is a nice made necklace, and the butterfly ...</td>\n",
       "      <td>nice made necklace butterfly pendant look beau...</td>\n",
       "      <td>3</td>\n",
       "    </tr>\n",
       "    <tr>\n",
       "      <th>1</th>\n",
       "      <td>4.0</td>\n",
       "      <td>I bought this necklace on a whim; I love butte...</td>\n",
       "      <td>bought necklace whim love butterfly looked dai...</td>\n",
       "      <td>3</td>\n",
       "    </tr>\n",
       "    <tr>\n",
       "      <th>2</th>\n",
       "      <td>5.0</td>\n",
       "      <td>Bought via gold box ,it is much better than I ...</td>\n",
       "      <td>bought via gold box much better thoughtthe cha...</td>\n",
       "      <td>4</td>\n",
       "    </tr>\n",
       "    <tr>\n",
       "      <th>4</th>\n",
       "      <td>5.0</td>\n",
       "      <td>Love this butterfly pendant. Right size, high ...</td>\n",
       "      <td>love butterfly pendant right size high quality...</td>\n",
       "      <td>4</td>\n",
       "    </tr>\n",
       "    <tr>\n",
       "      <th>5</th>\n",
       "      <td>5.0</td>\n",
       "      <td>I bought this as a graduation gift for my daug...</td>\n",
       "      <td>bought graduation gift daughter wanted ring re...</td>\n",
       "      <td>4</td>\n",
       "    </tr>\n",
       "  </tbody>\n",
       "</table>\n",
       "</div>"
      ],
      "text/plain": [
       "   Score                                               Text  \\\n",
       "0    4.0  It is a nice made necklace, and the butterfly ...   \n",
       "1    4.0  I bought this necklace on a whim; I love butte...   \n",
       "2    5.0  Bought via gold box ,it is much better than I ...   \n",
       "4    5.0  Love this butterfly pendant. Right size, high ...   \n",
       "5    5.0  I bought this as a graduation gift for my daug...   \n",
       "\n",
       "                                        Cleaned_Text  Encoded_Score  \n",
       "0  nice made necklace butterfly pendant look beau...              3  \n",
       "1  bought necklace whim love butterfly looked dai...              3  \n",
       "2  bought via gold box much better thoughtthe cha...              4  \n",
       "4  love butterfly pendant right size high quality...              4  \n",
       "5  bought graduation gift daughter wanted ring re...              4  "
      ]
     },
     "execution_count": 11,
     "metadata": {},
     "output_type": "execute_result"
    }
   ],
   "source": [
    "df.head()"
   ]
  },
  {
   "cell_type": "code",
   "execution_count": 12,
   "id": "38dccf3b",
   "metadata": {},
   "outputs": [
    {
     "data": {
      "text/plain": [
       "(50830, 4)"
      ]
     },
     "execution_count": 12,
     "metadata": {},
     "output_type": "execute_result"
    }
   ],
   "source": [
    "df.shape"
   ]
  },
  {
   "cell_type": "code",
   "execution_count": 13,
   "id": "ab2cef97",
   "metadata": {},
   "outputs": [
    {
     "name": "stdout",
     "output_type": "stream",
     "text": [
      "Distribution of Ratings:\n",
      " Score\n",
      "5.0    27772\n",
      "4.0    10241\n",
      "3.0     5129\n",
      "1.0     4405\n",
      "2.0     3283\n",
      "Name: count, dtype: int64\n"
     ]
    }
   ],
   "source": [
    "# Checking the distribution of ratings\n",
    "rating_counts = df['Score'].value_counts()\n",
    "print(\"Distribution of Ratings:\\n\", rating_counts)\n"
   ]
  },
  {
   "cell_type": "code",
   "execution_count": 14,
   "id": "e1ab5756",
   "metadata": {},
   "outputs": [],
   "source": [
    "# Train-test split using the cleaned text and encoded labels  \n",
    "# `test_size=0.2` reserves 20% of data for testing  \n",
    "# `stratify=df['Encoded_Score']` ensures balanced class distribution in train & test sets  \n",
    "# `random_state=42` ensures reproducibility  \n",
    "X_train, X_test, y_train, y_test = train_test_split(df['Cleaned_Text'], df['Encoded_Score'], test_size=0.2, stratify=df['Encoded_Score'], random_state=42)\n"
   ]
  },
  {
   "cell_type": "code",
   "execution_count": 15,
   "id": "cd98ca5c",
   "metadata": {},
   "outputs": [
    {
     "name": "stdout",
     "output_type": "stream",
     "text": [
      "Training data shape: (40664,)\n",
      "Test data shape: (10166,)\n"
     ]
    }
   ],
   "source": [
    "print(\"Training data shape:\", X_train.shape)\n",
    "print(\"Test data shape:\", X_test.shape)"
   ]
  },
  {
   "cell_type": "code",
   "execution_count": 16,
   "id": "fcaef48e",
   "metadata": {},
   "outputs": [
    {
     "name": "stdout",
     "output_type": "stream",
     "text": [
      "First 15 predicted labels: [0 4 3 4 4 0 4 4 4 4 2 4 2 0 4]\n",
      "First 15 actual labels: [0 2 4 4 4 0 1 4 2 4 2 4 0 0 4]\n",
      "\n",
      "Classification Report for Naive Bayes:\n",
      "              precision    recall  f1-score   support\n",
      "\n",
      "           0       0.85      0.44      0.58       881\n",
      "           1       0.96      0.23      0.36       657\n",
      "           2       0.79      0.26      0.40      1026\n",
      "           3       0.58      0.32      0.41      2048\n",
      "           4       0.67      0.98      0.80      5554\n",
      "\n",
      "    accuracy                           0.68     10166\n",
      "   macro avg       0.77      0.45      0.51     10166\n",
      "weighted avg       0.70      0.68      0.63     10166\n",
      "\n"
     ]
    }
   ],
   "source": [
    "# Creating a pipeline that first transforms text data into numerical features using TF-IDF\n",
    "# Then, it applies a Naive Bayes classifier to make predictions\n",
    "nb_model = make_pipeline(\n",
    "    TfidfVectorizer(ngram_range=(1, 2)),  # Convert text into TF-IDF features, considering both unigrams and bigrams\n",
    "    MultinomialNB(alpha=0.1)  # Using Naive Bayes with a smoothing factor of 0.5 to handle zero probabilities\n",
    ")\n",
    "\n",
    "# Training the model using the training dataset (X_train contains text, y_train contains labels)\n",
    "nb_model.fit(X_train, y_train)\n",
    "\n",
    "# Making predictions on the test dataset\n",
    "nb_predicted = nb_model.predict(X_test)\n",
    "\n",
    "# Displaying some sample predictions along with actual values to compare\n",
    "print(\"First 15 predicted labels:\", nb_predicted[:15])  # Showing the first 15 predictions made by the model\n",
    "print(\"First 15 actual labels:\", y_test.values[:15])  # Displaying the corresponding actual labels\n",
    "\n",
    "# Printing a detailed classification report to evaluate the model’s performance\n",
    "print(\"\\nClassification Report for Naive Bayes:\")\n",
    "print(classification_report(y_test, nb_predicted))  # Shows precision, recall, and F1-score for each class"
   ]
  },
  {
   "cell_type": "code",
   "execution_count": 17,
   "id": "768f1dcc",
   "metadata": {},
   "outputs": [
    {
     "name": "stdout",
     "output_type": "stream",
     "text": [
      "k=1: Avg. Cross-Validation Accuracy = 0.608\n",
      "k=3: Avg. Cross-Validation Accuracy = 0.639\n",
      "k=5: Avg. Cross-Validation Accuracy = 0.659\n",
      "k=7: Avg. Cross-Validation Accuracy = 0.669\n",
      "k=9: Avg. Cross-Validation Accuracy = 0.676\n",
      "\n",
      "First 10 predicted labels: [0 4 4 4 4 0 4 4 4 4]\n",
      "First 10 actual labels: [0 2 4 4 4 0 1 4 2 4]\n"
     ]
    },
    {
     "data": {
      "image/png": "[encoded data removed]",
      "text/plain": [
       "<Figure size 720x432 with 1 Axes>"
      ]
     },
     "metadata": {
      "needs_background": "light"
     },
     "output_type": "display_data"
    }
   ],
   "source": [
    "# The goal is to find the best k (number of neighbors) for KNN classification.\n",
    "k_neighbors_list = [1, 3, 5, 7, 9]  # List of k values to evaluate\n",
    "cross_validation_scores = []  # This will store the average accuracy for each k-value.\n",
    "\n",
    "# Iterating over different k-values and perform cross-validation\n",
    "for k in k_neighbors_list:\n",
    "    # Creating a pipeline that first converts text into numerical features (TF-IDF)\n",
    "    # and then applies the K-Nearest Neighbors classifier.\n",
    "    knn_model = make_pipeline(\n",
    "        TfidfVectorizer(ngram_range=(1, 2), max_features=50000, sublinear_tf=True),\n",
    "        # TF-IDF Vectorizer:\n",
    "        # Converts text into numerical features for ML models.\n",
    "        # Uses unigrams (single words) and bigrams (word pairs).\n",
    "        # Limits features to 50,000 to reduce computational cost.\n",
    "        # Uses sublinear TF scaling to dampen the effect of frequently occurring words.\n",
    "\n",
    "        KNeighborsClassifier(n_neighbors=k, metric='cosine', weights='distance')\n",
    "        # K-Nearest Neighbors (KNN) Classifier:\n",
    "        # `n_neighbors=k`: Specifies the number of neighbors to consider.\n",
    "        # `metric='cosine'`: Uses cosine similarity instead of Euclidean distance (better for text data).\n",
    "        # `weights='distance'`: Weights closer neighbors more heavily in decision-making.\n",
    "    )\n",
    "\n",
    "    # Evaluating the model using cross-validation\n",
    "    # 5-fold cross-validation splits the data into 5 parts and evaluates the model 5 times.\n",
    "    # We measure accuracy in each fold and take the average.\n",
    "    cv_accuracy_scores = cross_val_score(knn_model, X_train, y_train, cv=5, scoring='accuracy')\n",
    "\n",
    "    # Storing the average accuracy for this k-value\n",
    "    cross_validation_scores.append(cv_accuracy_scores.mean())\n",
    "\n",
    "    # Printing the results to track how the model performs for each k-value.\n",
    "    print(f\"k={k}: Avg. Cross-Validation Accuracy = {cv_accuracy_scores.mean():.3f}\")\n",
    "\n",
    "# Finding the best k-value based on highest accuracy\n",
    "optimal_k = k_neighbors_list[np.argmax(cross_validation_scores)]\n",
    "\n",
    "# Training the final model using the best k-value found\n",
    "final_knn_model = make_pipeline(\n",
    "    TfidfVectorizer(ngram_range=(1, 2), max_features=50000, sublinear_tf=True),\n",
    "    KNeighborsClassifier(n_neighbors=optimal_k, metric='cosine', weights='distance')\n",
    ")\n",
    "\n",
    "# Fitting the final model on the full training dataset\n",
    "final_knn_model.fit(X_train, y_train)\n",
    "\n",
    "# Making predictions on the test dataset\n",
    "knn_pred = final_knn_model.predict(X_test)\n",
    "\n",
    "# Displaying a sample of predictions to compare with actual labels\n",
    "print(\"\\nFirst 10 predicted labels:\", knn_pred[:10])\n",
    "print(\"First 10 actual labels:\", y_test.values[:10])\n",
    "\n",
    "# Plotting k-values against their corresponding cross-validation accuracy scores\n",
    "plt.figure(figsize=(10, 6))\n",
    "plt.plot(k_neighbors_list, cross_validation_scores, marker='o', linestyle='-', color='#c69bfa', label='Cross-Validation Accuracy')\n",
    "\n",
    "# Highlighting the optimal k value\n",
    "plt.scatter(optimal_k, max(cross_validation_scores), color='#fa1b57', zorder=5, label=f'Optimal k = {optimal_k}')\n",
    "\n",
    "# Adding title and labels\n",
    "plt.title('K-Nearest Neighbors: Cross-Validation Accuracy by k')\n",
    "plt.xlabel('Number of Neighbors (k)')\n",
    "plt.ylabel('Cross-Validation Accuracy')\n",
    "\n",
    "# Adding a grid for better readability\n",
    "plt.grid(True)\n",
    "\n",
    "# Adding a legend\n",
    "plt.legend()\n",
    "\n",
    "# Displaying the graph\n",
    "plt.show()"
   ]
  },
  {
   "cell_type": "code",
   "execution_count": 18,
   "id": "a4774ed7",
   "metadata": {},
   "outputs": [],
   "source": [
    "# Define and fit the tokenizer\n",
    "MAX_NB_WORDS = 50000  # Define the maximum vocabulary size for tokenization\n",
    "tokenizer = Tokenizer(num_words=MAX_NB_WORDS)  \n",
    "tokenizer.fit_on_texts(X_train)  # Fit tokenizer only on training data"
   ]
  },
  {
   "cell_type": "code",
   "execution_count": 19,
   "id": "6d3dd42b",
   "metadata": {},
   "outputs": [
    {
     "name": "stdout",
     "output_type": "stream",
     "text": [
      "Epoch 1/5\n",
      "636/636 [==============================] - 90s 140ms/step - loss: 0.9773 - accuracy: 0.6067 - val_loss: 0.8226 - val_accuracy: 0.6636\n",
      "Epoch 2/5\n",
      "636/636 [==============================] - 90s 141ms/step - loss: 0.7141 - accuracy: 0.7166 - val_loss: 0.7871 - val_accuracy: 0.6902\n",
      "Epoch 3/5\n",
      "636/636 [==============================] - 90s 141ms/step - loss: 0.5374 - accuracy: 0.7908 - val_loss: 0.8585 - val_accuracy: 0.6934\n",
      "Epoch 4/5\n",
      "636/636 [==============================] - 90s 141ms/step - loss: 0.3991 - accuracy: 0.8487 - val_loss: 1.0185 - val_accuracy: 0.6738\n",
      "Epoch 5/5\n",
      "636/636 [==============================] - 90s 141ms/step - loss: 0.2903 - accuracy: 0.8931 - val_loss: 1.0999 - val_accuracy: 0.6954\n",
      "318/318 [==============================] - 4s 13ms/step\n",
      "Classification Report for CNN:\n",
      "              precision    recall  f1-score   support\n",
      "\n",
      "           0       0.72      0.56      0.63       881\n",
      "           1       0.38      0.42      0.40       657\n",
      "           2       0.44      0.43      0.44      1026\n",
      "           3       0.57      0.39      0.46      2048\n",
      "           4       0.80      0.91      0.85      5554\n",
      "\n",
      "    accuracy                           0.70     10166\n",
      "   macro avg       0.58      0.54      0.56     10166\n",
      "weighted avg       0.68      0.70      0.68     10166\n",
      "\n"
     ]
    }
   ],
   "source": [
    "# Setting random seeds for consistent results\n",
    "np.random.seed(42)\n",
    "tf.random.set_seed(42)\n",
    "\n",
    "# Defining key parameters for model training\n",
    "MAX_SEQUENCE_LENGTH = 300  # Standardizing sequence length to 300 \n",
    "EMBEDDING_DIM = 100  # Each word will be represented as a 100-dimensional vector\n",
    "\n",
    "# Converting training and test text data into sequences of integers\n",
    "X_train_sequence = tokenizer.texts_to_sequences(X_train)\n",
    "X_test_sequence = tokenizer.texts_to_sequences(X_test)\n",
    "\n",
    "# Ensuring all sequences are of the same length (MAX_SEQUENCE_LENGTH)\n",
    "# If a sequence is shorter, it is padded; if longer, it is truncated\n",
    "X_train_padded = pad_sequences(X_train_sequence, maxlen=MAX_SEQUENCE_LENGTH)\n",
    "X_test_padded = pad_sequences(X_test_sequence, maxlen=MAX_SEQUENCE_LENGTH)\n",
    "\n",
    "# Converting categorical labels into one-hot encoding format\n",
    "# This is required for multi-class classification tasks\n",
    "y_train_categorical = tf.keras.utils.to_categorical(y_train)\n",
    "y_test_categorical = tf.keras.utils.to_categorical(y_test)\n",
    "\n",
    "# defining the Convolutional Neural Network model\n",
    "cnn_model = Sequential()  # Using a sequential model where layers are stacked\n",
    "\n",
    "# Adding an embedding layer to convert word indices into dense vectors\n",
    "# This layer transforms words into a meaningful numerical representation\n",
    "cnn_model.add(Embedding(input_dim=MAX_NB_WORDS, output_dim=EMBEDDING_DIM, input_length=MAX_SEQUENCE_LENGTH))\n",
    "\n",
    "# First convolutional layer\n",
    "# Uses 128 filters with a kernel size of 5, followed by ReLU activation\n",
    "# Helps capturing local word patterns\n",
    "cnn_model.add(Conv1D(128, 5, activation='relu'))\n",
    "cnn_model.add(MaxPooling1D(pool_size=2))  # Downsamples the feature maps to reduce size\n",
    "\n",
    "# Second convolutional layer\n",
    "# Another Conv1D layer with the same configuration to extract deeper features\n",
    "cnn_model.add(Conv1D(128, 5, activation='relu'))\n",
    "cnn_model.add(MaxPooling1D(pool_size=2))  # Further reduces dimensionality\n",
    "\n",
    "# Global Max Pooling layer to reduce the feature map to a fixed-size vector\n",
    "# Selects the maximum value for each feature, keeping the most significant ones\n",
    "cnn_model.add(GlobalMaxPooling1D())\n",
    "\n",
    "# Fully connected layer\n",
    "# Includes 128 neurons with ReLU activation for learning high-level patterns\n",
    "cnn_model.add(Dense(128, activation='relu'))\n",
    "cnn_model.add(Dropout(0.5))  # Drops 50% of neurons during training to prevent overfitting\n",
    "\n",
    "# Output layer\n",
    "# Number of neurons = number of classes (from y_train_cat.shape[1])\n",
    "# Uses softmax activation for multi-class probability distribution\n",
    "cnn_model.add(Dense(y_train_categorical.shape[1], activation='softmax'))\n",
    "\n",
    "# Compile the model\n",
    "# Uses Adam optimizer, categorical cross-entropy loss (for multi-class problems), and accuracy as a metric\n",
    "cnn_model.compile(optimizer=Adam(), loss='categorical_crossentropy', metrics=['accuracy'])\n",
    "\n",
    "# Training the model\n",
    "# Uses batch size of 64, runs for 5 epochs, and validates on test data\n",
    "history = cnn_model.fit(X_train_padded, y_train_categorical, epochs=5, batch_size=64, validation_data=(X_test_padded, y_test_categorical))\n",
    "\n",
    "# Predicting class probabilities for test data\n",
    "cnn_pred = cnn_model.predict(X_test_padded)\n",
    "# Converting probability predictions into class labels\n",
    "cnn_pred_class = np.argmax(cnn_pred, axis=1)\n",
    "\n",
    "# Printing classification report to evaluate model performance\n",
    "print(\"Classification Report for CNN:\")\n",
    "print(classification_report(y_test, cnn_pred_class))\n"
   ]
  },
  {
   "cell_type": "code",
   "execution_count": 20,
   "id": "147da1a1",
   "metadata": {},
   "outputs": [
    {
     "name": "stdout",
     "output_type": "stream",
     "text": [
      "Epoch 1/10\n",
      "318/318 [==============================] - 232s 712ms/step - loss: 1.0317 - accuracy: 0.5943 - val_loss: 0.8716 - val_accuracy: 0.6412\n",
      "Epoch 2/10\n",
      "318/318 [==============================] - 226s 709ms/step - loss: 0.7949 - accuracy: 0.6806 - val_loss: 0.8085 - val_accuracy: 0.6809\n",
      "Epoch 3/10\n",
      "318/318 [==============================] - 225s 709ms/step - loss: 0.6775 - accuracy: 0.7364 - val_loss: 0.8087 - val_accuracy: 0.6898\n",
      "Epoch 4/10\n",
      "318/318 [==============================] - 223s 702ms/step - loss: 0.5961 - accuracy: 0.7755 - val_loss: 0.8259 - val_accuracy: 0.6932\n",
      "318/318 [==============================] - 19s 56ms/step\n",
      "\n",
      "Classification Report for LSTM:\n",
      "              precision    recall  f1-score   support\n",
      "\n",
      "           0       0.67      0.66      0.67       881\n",
      "           1       0.40      0.14      0.20       657\n",
      "           2       0.39      0.39      0.39      1026\n",
      "           3       0.46      0.52      0.49      2048\n",
      "           4       0.83      0.86      0.85      5554\n",
      "\n",
      "    accuracy                           0.68     10166\n",
      "   macro avg       0.55      0.51      0.52     10166\n",
      "weighted avg       0.67      0.68      0.67     10166\n",
      "\n"
     ]
    }
   ],
   "source": [
    "# Setting random seeds for consistent results\n",
    "np.random.seed(42)\n",
    "tf.random.set_seed(42)\n",
    "\n",
    "# Defining constants\n",
    "MAX_SEQUENCE_LENGTH = 200  # Standardized sequence length - Reduced from 300 for efficiency\n",
    "EMBEDDING_DIM = 128       # Word embedding dimension - Increased from 100 to capture more features\n",
    "BATCH_SIZE = 128          # Number of samples processed before updating the model\n",
    "EPOCHS = 10               # Number of training iterations over the dataset\n",
    "\n",
    "# Converting text into sequences\n",
    "X_train_sequence = tokenizer.texts_to_sequences(X_train)\n",
    "X_test_sequence = tokenizer.texts_to_sequences(X_test)\n",
    "\n",
    "# Ensuring all sequences are the same length i.e. either padded or truncated\n",
    "X_train_padded = pad_sequences(X_train_sequence, maxlen=MAX_SEQUENCE_LENGTH)\n",
    "X_test_padded = pad_sequences(X_test_sequence, maxlen=MAX_SEQUENCE_LENGTH)\n",
    "\n",
    "# One-hot encoding is done to convert target labels into categorical format for multi-class classification\n",
    "y_train_categorical = tf.keras.utils.to_categorical(y_train)  # Converting y_train into one-hot encoding\n",
    "y_test_categorical = tf.keras.utils.to_categorical(y_test)    # Converting y_test into one-hot encoding\n",
    "\n",
    "# Building model\n",
    "# Defining a sequential neural network model\n",
    "lstm_model = Sequential([\n",
    "    # Embedding layer used to convert word indices into dense vectors\n",
    "    Embedding(input_dim=MAX_NB_WORDS,  # Vocabulary size\n",
    "              output_dim=EMBEDDING_DIM,  # Vector dimension per word\n",
    "              input_length=MAX_SEQUENCE_LENGTH),  # Input sequence length\n",
    "    \n",
    "    # Spatial Dropout randomly drops words during training to improve generalization\n",
    "    SpatialDropout1D(0.2),  # 20% dropout\n",
    "    \n",
    "    # First LSTM layer: Bi-directional for better context capture\n",
    "    Bidirectional(LSTM(64, return_sequences=True, dropout=0.2)),  # 64 LSTM units with dropout\n",
    "    \n",
    "    # Second LSTM layer: Another bi-directional LSTM for deeper sequence learning\n",
    "    Bidirectional(LSTM(64, dropout=0.2)),  # 64 LSTM units with dropout\n",
    "    \n",
    "    # Fully connected layer: 64 neurons with ReLU activation to extract features\n",
    "    Dense(64, activation='relu'),  # Activation function introduces non-linearity\n",
    "    \n",
    "    # Dropout layer: Prevents overfitting by randomly setting neurons to zero\n",
    "    Dropout(0.3),  # 30% dropout\n",
    "    \n",
    "    # Output layer: Softmax activation to predict class probabilities\n",
    "    Dense(y_train_categorical.shape[1], activation='softmax')  # Output neurons = number of classes\n",
    "])\n",
    "\n",
    "# Compiling the model with an optimizer, loss function, and evaluation metric\n",
    "lstm_model.compile(\n",
    "    optimizer=Adam(learning_rate=0.0005),  # Adam optimizer with a small learning rate for stability\n",
    "    loss='categorical_crossentropy',  # Loss function for multi-class classification\n",
    "    metrics=['accuracy']  # Accuracy metric to evaluate performance\n",
    ")\n",
    "\n",
    "# Training\n",
    "# Defining early stopping: Stop training if validation loss doesn't improve for 2 consecutive epochs\n",
    "early_stop = EarlyStopping(monitor='val_loss', patience=2, restore_best_weights=True)\n",
    "\n",
    "# Training the model with training data and validating on test data\n",
    "history = lstm_model.fit(\n",
    "    X_train_padded, y_train_categorical,\n",
    "    epochs=EPOCHS,  # Run for a fixed number of epochs\n",
    "    batch_size=BATCH_SIZE,  # Number of samples processed before model update\n",
    "    validation_data=(X_test_padded, y_test_categorical),  # Using test data for validation\n",
    "    callbacks=[early_stop],  # Applying early stopping to prevent overfitting\n",
    "    verbose=1  # Showing progress output\n",
    ")\n",
    "\n",
    "# Predicting probabilities for the test dataset\n",
    "lstm_pred = lstm_model.predict(X_test_padded)\n",
    "\n",
    "# Converting probability predictions into class labels\n",
    "lstm_pred_class = np.argmax(lstm_pred, axis=1)\n",
    "\n",
    "# Printing classification report to evaluate model performance\n",
    "print(\"\\nClassification Report for LSTM:\")\n",
    "print(classification_report(y_test, lstm_pred_class))\n"
   ]
  },
  {
   "cell_type": "code",
   "execution_count": 21,
   "id": "b8ad7ea9",
   "metadata": {},
   "outputs": [
    {
     "name": "stdout",
     "output_type": "stream",
     "text": [
      "\n",
      "\u001b[1mEvaluation Metrics for Naive Bayes:\u001b[0m\n",
      "Accuracy: 0.6805\n",
      "F1 Score: 0.6338\n",
      "Precision: 0.7019\n",
      "Recall: 0.6805\n",
      "\n",
      "\u001b[1mClassification Report:\u001b[0m\n",
      "              precision    recall  f1-score   support\n",
      "\n",
      "           0       0.85      0.44      0.58       881\n",
      "           1       0.96      0.23      0.36       657\n",
      "           2       0.79      0.26      0.40      1026\n",
      "           3       0.58      0.32      0.41      2048\n",
      "           4       0.67      0.98      0.80      5554\n",
      "\n",
      "    accuracy                           0.68     10166\n",
      "   macro avg       0.77      0.45      0.51     10166\n",
      "weighted avg       0.70      0.68      0.63     10166\n",
      "\n"
     ]
    },
    {
     "data": {
      "image/png": "[encoded data removed]",
      "text/plain": [
       "<Figure size 576x432 with 2 Axes>"
      ]
     },
     "metadata": {
      "needs_background": "light"
     },
     "output_type": "display_data"
    },
    {
     "name": "stderr",
     "output_type": "stream",
     "text": [
      "<ipython-input-21-798c2c480986>:74: FutureWarning: \n",
      "\n",
      "Passing `palette` without assigning `hue` is deprecated and will be removed in v0.14.0. Assign the `x` variable to `hue` and set `legend=False` for the same effect.\n",
      "\n",
      "  ax = sns.barplot(x=list(metrics.keys()),  # X-axis: Metric names\n"
     ]
    },
    {
     "data": {
      "image/png": "[encoded data removed]",
      "text/plain": [
       "<Figure size 720x432 with 1 Axes>"
      ]
     },
     "metadata": {
      "needs_background": "light"
     },
     "output_type": "display_data"
    },
    {
     "name": "stdout",
     "output_type": "stream",
     "text": [
      "\n",
      "\u001b[1mEvaluation Metrics for KNN:\u001b[0m\n",
      "Accuracy: 0.6763\n",
      "F1 Score: 0.6447\n",
      "Precision: 0.6513\n",
      "Recall: 0.6763\n",
      "\n",
      "\u001b[1mClassification Report:\u001b[0m\n",
      "              precision    recall  f1-score   support\n",
      "\n",
      "           0       0.65      0.52      0.58       881\n",
      "           1       0.53      0.29      0.37       657\n",
      "           2       0.59      0.33      0.42      1026\n",
      "           3       0.55      0.34      0.42      2048\n",
      "           4       0.72      0.93      0.81      5554\n",
      "\n",
      "    accuracy                           0.68     10166\n",
      "   macro avg       0.61      0.48      0.52     10166\n",
      "weighted avg       0.65      0.68      0.64     10166\n",
      "\n"
     ]
    },
    {
     "data": {
      "image/png": "[encoded data removed]",
      "text/plain": [
       "<Figure size 576x432 with 2 Axes>"
      ]
     },
     "metadata": {
      "needs_background": "light"
     },
     "output_type": "display_data"
    },
    {
     "name": "stderr",
     "output_type": "stream",
     "text": [
      "<ipython-input-21-798c2c480986>:74: FutureWarning: \n",
      "\n",
      "Passing `palette` without assigning `hue` is deprecated and will be removed in v0.14.0. Assign the `x` variable to `hue` and set `legend=False` for the same effect.\n",
      "\n",
      "  ax = sns.barplot(x=list(metrics.keys()),  # X-axis: Metric names\n"
     ]
    },
    {
     "data": {
      "image/png": "[encoded data removed]",
      "text/plain": [
       "<Figure size 720x432 with 1 Axes>"
      ]
     },
     "metadata": {
      "needs_background": "light"
     },
     "output_type": "display_data"
    },
    {
     "name": "stdout",
     "output_type": "stream",
     "text": [
      "\n",
      "\u001b[1mEvaluation Metrics for CNN:\u001b[0m\n",
      "Accuracy: 0.6954\n",
      "F1 Score: 0.6822\n",
      "Precision: 0.6815\n",
      "Recall: 0.6954\n",
      "\n",
      "\u001b[1mClassification Report:\u001b[0m\n",
      "              precision    recall  f1-score   support\n",
      "\n",
      "           0       0.72      0.56      0.63       881\n",
      "           1       0.38      0.42      0.40       657\n",
      "           2       0.44      0.43      0.44      1026\n",
      "           3       0.57      0.39      0.46      2048\n",
      "           4       0.80      0.91      0.85      5554\n",
      "\n",
      "    accuracy                           0.70     10166\n",
      "   macro avg       0.58      0.54      0.56     10166\n",
      "weighted avg       0.68      0.70      0.68     10166\n",
      "\n"
     ]
    },
    {
     "data": {
      "image/png": "[encoded data removed]",
      "text/plain": [
       "<Figure size 576x432 with 2 Axes>"
      ]
     },
     "metadata": {
      "needs_background": "light"
     },
     "output_type": "display_data"
    },
    {
     "name": "stderr",
     "output_type": "stream",
     "text": [
      "<ipython-input-21-798c2c480986>:74: FutureWarning: \n",
      "\n",
      "Passing `palette` without assigning `hue` is deprecated and will be removed in v0.14.0. Assign the `x` variable to `hue` and set `legend=False` for the same effect.\n",
      "\n",
      "  ax = sns.barplot(x=list(metrics.keys()),  # X-axis: Metric names\n"
     ]
    },
    {
     "data": {
      "image/png": "[encoded data removed]",
      "text/plain": [
       "<Figure size 720x432 with 1 Axes>"
      ]
     },
     "metadata": {
      "needs_background": "light"
     },
     "output_type": "display_data"
    },
    {
     "name": "stdout",
     "output_type": "stream",
     "text": [
      "\n",
      "\u001b[1mEvaluation Metrics for LSTM:\u001b[0m\n",
      "Accuracy: 0.6809\n",
      "F1 Score: 0.6715\n",
      "Precision: 0.6716\n",
      "Recall: 0.6809\n",
      "\n",
      "\u001b[1mClassification Report:\u001b[0m\n",
      "              precision    recall  f1-score   support\n",
      "\n",
      "           0       0.67      0.66      0.67       881\n",
      "           1       0.40      0.14      0.20       657\n",
      "           2       0.39      0.39      0.39      1026\n",
      "           3       0.46      0.52      0.49      2048\n",
      "           4       0.83      0.86      0.85      5554\n",
      "\n",
      "    accuracy                           0.68     10166\n",
      "   macro avg       0.55      0.51      0.52     10166\n",
      "weighted avg       0.67      0.68      0.67     10166\n",
      "\n"
     ]
    },
    {
     "data": {
      "image/png": "[encoded data removed]",
      "text/plain": [
       "<Figure size 576x432 with 2 Axes>"
      ]
     },
     "metadata": {
      "needs_background": "light"
     },
     "output_type": "display_data"
    },
    {
     "name": "stderr",
     "output_type": "stream",
     "text": [
      "<ipython-input-21-798c2c480986>:74: FutureWarning: \n",
      "\n",
      "Passing `palette` without assigning `hue` is deprecated and will be removed in v0.14.0. Assign the `x` variable to `hue` and set `legend=False` for the same effect.\n",
      "\n",
      "  ax = sns.barplot(x=list(metrics.keys()),  # X-axis: Metric names\n"
     ]
    },
    {
     "data": {
      "image/png": "[encoded data removed]",
      "text/plain": [
       "<Figure size 720x432 with 1 Axes>"
      ]
     },
     "metadata": {
      "needs_background": "light"
     },
     "output_type": "display_data"
    }
   ],
   "source": [
    "def evaluate_model(y_true, y_pred, model_name):\n",
    "    \"\"\"\n",
    "    Evaluates a machine learning model using multiple performance metrics, \n",
    "    prints the results, and visualizes the confusion matrix and evaluation metrics.\n",
    "    \n",
    "    \"\"\"\n",
    "    # Printing the model name in bold text for better visibility\n",
    "    print(f\"\\n\\033[1mEvaluation Metrics for {model_name}:\\033[0m\")\n",
    "    \n",
    "    # Computing accuracy \n",
    "    accuracy = accuracy_score(y_true, y_pred)\n",
    "\n",
    "    # Computing F1-score \n",
    "    f1 = f1_score(y_true, y_pred, average='weighted')\n",
    "\n",
    "    # Computing precision \n",
    "    precision = precision_score(y_true, y_pred, average='weighted')\n",
    "\n",
    "    # Computing recall\n",
    "    recall = recall_score(y_true, y_pred, average='weighted')\n",
    "\n",
    "    # Printing calculated metrics with 4 decimal places for clarity\n",
    "    print(f\"Accuracy: {accuracy:.4f}\")\n",
    "    print(f\"F1 Score: {f1:.4f}\")\n",
    "    print(f\"Precision: {precision:.4f}\")\n",
    "    print(f\"Recall: {recall:.4f}\")\n",
    "\n",
    "    # The classification report provides precision, recall, and F1-score for each class\n",
    "    print(\"\\n\\033[1mClassification Report:\\033[0m\")\n",
    "    print(classification_report(y_true, y_pred))\n",
    "\n",
    "    # Computing the confusion matrix (a table showing actual vs. predicted classifications)\n",
    "    cm = confusion_matrix(y_true, y_pred)\n",
    "\n",
    "    # Converting the confusion matrix into a pandas DataFrame for better visualization\n",
    "    cm_df = pd.DataFrame(cm, index=np.unique(y_true), columns=np.unique(y_true))\n",
    "\n",
    "    # Creating a heatmap for the confusion matrix\n",
    "    plt.figure(figsize=(8, 6))  # Setting figure size to improve readability\n",
    "    sns.heatmap(cm_df,  # Using the confusion matrix dataframe\n",
    "                annot=True,  # Displaying numbers inside each cell\n",
    "                fmt='d',  # Formatting numbers as integers\n",
    "                cmap='YlGnBu',  # Using a blue-green color palette\n",
    "                linewidths=1,  # Setting the thickness of grid lines\n",
    "                linecolor='black',  # Setting the grid line color to black\n",
    "                annot_kws={\"size\": 14})  # Setting annotation (text) size inside cells\n",
    "\n",
    "    # Adding a title to the confusion matrix plot\n",
    "    plt.title(f'Confusion Matrix - {model_name}', fontsize=14, fontweight='bold')\n",
    "\n",
    "    # Labeling the x-axis and y-axis\n",
    "    plt.xlabel('Predicted Score', fontsize=12)\n",
    "    plt.ylabel('Actual Score', fontsize=12)\n",
    "\n",
    "    # Rotating x-axis labels for better readability\n",
    "    plt.xticks(rotation=45)\n",
    "    plt.yticks(rotation=0)\n",
    "\n",
    "    # Displaying the confusion matrix heatmap\n",
    "    plt.show()\n",
    "    \n",
    "    # Creating a dictionary to store evaluation metrics\n",
    "    metrics = {\n",
    "        'Accuracy': accuracy,\n",
    "        'F1 Score': f1,\n",
    "        'Precision': precision,\n",
    "        'Recall': recall\n",
    "    }\n",
    "\n",
    "    # Setting figure size for the bar chart\n",
    "    plt.figure(figsize=(10, 6))\n",
    "\n",
    "    # Now, Creating a bar plot with metric names on the x-axis and their values on the y-axis\n",
    "    ax = sns.barplot(x=list(metrics.keys()),  # X-axis: Metric names\n",
    "                     y=list(metrics.values()),  # Y-axis: Corresponding values\n",
    "                     palette=\"magma\")  # Using 'magma' color palette for better visualization\n",
    "\n",
    "    # Adding a title to the bar chart\n",
    "    plt.title(f\"Evaluation Metrics Comparison - {model_name}\", fontsize=14, fontweight='bold')\n",
    "\n",
    "    # Labeling the axes\n",
    "    plt.ylabel('Score', fontsize=12)\n",
    "    plt.xlabel('Metric', fontsize=12)\n",
    "\n",
    "    # Setting the y-axis range to ensure values stay between 0 and 1\n",
    "    plt.ylim(0, 1)\n",
    "\n",
    "    for p in ax.patches:\n",
    "        ax.annotate(f'{p.get_height():.4f}',  # Formatting the value to 4 decimal places\n",
    "                    (p.get_x() + p.get_width() / 2., p.get_height()),  # Positioning the text label\n",
    "                    ha='center',  # Horizontally center-align text\n",
    "                    va='bottom',  # Placing text slightly above the bar\n",
    "                    fontsize=12, fontweight='bold')  # Setting text size and make it bold\n",
    "\n",
    "    # Displaying the bar chart\n",
    "    plt.show()\n",
    "\n",
    "# Evaluating the Naive Bayes model\n",
    "evaluate_model(y_test, nb_predicted, \"Naive Bayes\")\n",
    "\n",
    "# Evaluating the KNN model\n",
    "evaluate_model(y_test, knn_pred, \"KNN\")\n",
    "\n",
    "# Evaluating the CNN model\n",
    "evaluate_model(y_test, cnn_pred_class, \"CNN\")\n",
    "\n",
    "# Evaluating the LSTM model\n",
    "evaluate_model(y_test, lstm_pred_class, \"LSTM\")\n"
   ]
  },
  {
   "cell_type": "code",
   "execution_count": 22,
   "id": "74491d89",
   "metadata": {},
   "outputs": [
    {
     "name": "stdout",
     "output_type": "stream",
     "text": [
      "Naive Bayes model saved successfully as 'naive_bayes_model.pkl'\n",
      "KNN model saved successfully as 'knn_model.pkl'\n"
     ]
    },
    {
     "name": "stderr",
     "output_type": "stream",
     "text": [
      "/apps/jupyterhub/COMP42415/lib/python3.11/site-packages/keras/src/engine/training.py:3103: UserWarning: You are saving your model as an HDF5 file via `model.save()`. This file format is considered legacy. We recommend using instead the native Keras format, e.g. `model.save('my_model.keras')`.\n",
      "  saving_api.save_model(\n"
     ]
    },
    {
     "name": "stdout",
     "output_type": "stream",
     "text": [
      "CNN model saved successfully as 'cnn_model.h5'\n",
      "LSTM model saved successfully as 'lstm_model.h5'\n"
     ]
    }
   ],
   "source": [
    "# Saving Naive Bayes model\n",
    "# joblib is used to save scikit-learn models efficiently\n",
    "joblib.dump(nb_model, 'naive_bayes_model.pkl')  \n",
    "print(\"Naive Bayes model saved successfully as 'naive_bayes_model.pkl'\")\n",
    "\n",
    "# Similarly, saving KNN model\n",
    "joblib.dump(final_knn_model, 'knn_model.pkl')  \n",
    "print(\"KNN model saved successfully as 'knn_model.pkl'\")\n",
    "\n",
    "# Saving CNN model\n",
    "# Deep learning models built with TensorFlow/Keras require the .save() method\n",
    "cnn_model.save('cnn_model.h5')  \n",
    "print(\"CNN model saved successfully as 'cnn_model.h5'\")\n",
    "\n",
    "# Saving LSTM model\n",
    "# Like CNN, LSTM models are also saved using the .save() method \n",
    "lstm_model.save('lstm_model.h5')  \n",
    "print(\"LSTM model saved successfully as 'lstm_model.h5'\")\n",
    "\n"
   ]
  },
  {
   "cell_type": "code",
   "execution_count": 23,
   "id": "327c7048",
   "metadata": {},
   "outputs": [],
   "source": [
    "with open('tokenizer.pkl', 'wb') as handle:  \n",
    "    # Using pickle to save (serialize) the 'tokenizer' object into the file\n",
    "    # 'protocol=pickle.HIGHEST_PROTOCOL' ensures the most efficient way to store the object\n",
    "    pickle.dump(tokenizer, handle, protocol=pickle.HIGHEST_PROTOCOL)\n"
   ]
  },
  {
   "cell_type": "code",
   "execution_count": 26,
   "id": "78565037",
   "metadata": {},
   "outputs": [
    {
     "name": "stdout",
     "output_type": "stream",
     "text": [
      "Review Rating Predictor (Please enter 'quit' to exit)\n",
      "\n",
      "Please enter your review text: product was bad but delivered on time\n",
      "\n",
      "Predicted Ratings according to models:\n",
      "Naive Bayes: 4\n",
      "KNN: 4\n",
      "1/1 [==============================] - 0s 69ms/step\n",
      "CNN: 2\n",
      "1/1 [==============================] - 1s 1s/step\n",
      "LSTM: 4\n",
      "\n",
      "Please enter your review text: quit\n"
     ]
    }
   ],
   "source": [
    "import numpy as np\n",
    "import pickle\n",
    "from tensorflow.keras.models import load_model\n",
    "import joblib \n",
    "from tensorflow.keras.preprocessing.sequence import pad_sequences\n",
    "# Loading the saved tokenizer from the 'tokenizer.pkl' file\n",
    "with open('tokenizer.pkl', 'rb') as f:\n",
    "    tokenizer = pickle.load(f)\n",
    "# Loading the pre-trained deep learning models (CNN & LSTM) using Keras\n",
    "cnn_model = load_model('cnn_model.h5')  # Loads the CNN model\n",
    "lstm_model = load_model('lstm_model.h5')  # Loads the LSTM model\n",
    "\n",
    "# Loading the pre-trained machine learning models (Naive Bayes & KNN) using joblib\n",
    "nb_model = joblib.load('naive_bayes_model.pkl')  # Loads the Naive Bayes model\n",
    "knn_model = joblib.load('knn_model.pkl')  # Loads the KNN model\n",
    "\n",
    "# Defining sequence length for CNN and LSTM models (ensures uniform input size)\n",
    "CNN_SEQ_LEN = 300  # Maximum sequence length for CNN model\n",
    "LSTM_SEQ_LEN = 200  # Maximum sequence length for LSTM model\n",
    "\n",
    "def predict_rating(text, model, model_type):\n",
    "    \n",
    "    # If the model is Naive Bayes or KNN, they work with raw text inputs\n",
    "    if model_type in ['nb', 'knn']:\n",
    "        return model.predict([text])[0]  # Directly predicting using raw text input\n",
    "    \n",
    "    else:\n",
    "        # Converting text to a sequence of integer tokens using the loaded tokenizer\n",
    "        seq = tokenizer.texts_to_sequences([text])\n",
    "        \n",
    "        # Padding the sequence to a fixed length (CNN or LSTM)\n",
    "        padded = pad_sequences(seq, maxlen=CNN_SEQ_LEN if model_type == 'cnn' else LSTM_SEQ_LEN)\n",
    "        \n",
    "        # Predicting sentiment score using the deep learning model\n",
    "        pred = model.predict(padded, batch_size=1)\n",
    "        \n",
    "        # Getting the index of the highest probability (predicted class)\n",
    "        return np.argmax(pred, axis=1)[0]\n",
    "\n",
    "\n",
    "if __name__ == \"__main__\":\n",
    "    print(\"Review Rating Predictor (Please enter 'quit' to exit)\")\n",
    "\n",
    "    while True:\n",
    "        # Prompt user to enter a review\n",
    "        text = input(\"\\nPlease enter your review text: \").strip()\n",
    "        \n",
    "        # If user types 'quit', exit the loop\n",
    "        if text.lower() == 'quit':\n",
    "            break\n",
    "            \n",
    "        # Predicting ratings using our 4 models\n",
    "        print(\"\\nPredicted Ratings according to models:\")\n",
    "        print(f\"Naive Bayes: {predict_rating(text, nb_model, 'nb')}\")  # Prediction from Naive Bayes\n",
    "        print(f\"KNN: {predict_rating(text, knn_model, 'knn')}\")  # Prediction from KNN\n",
    "        print(f\"CNN: {predict_rating(text, cnn_model, 'cnn')}\")  # Prediction from CNN\n",
    "        print(f\"LSTM: {predict_rating(text, lstm_model, 'lstm')}\")  # Prediction from LSTM\n"
   ]
  },
  {
   "cell_type": "markdown",
   "id": "ce4f86f4",
   "metadata": {},
   "source": []
  },
  {
   "cell_type": "code",
   "execution_count": null,
   "id": "da444a6d",
   "metadata": {},
   "outputs": [],
   "source": []
  }
 ],
 "metadata": {
  "kernelspec": {
   "display_name": "Python 3",
   "language": "python",
   "name": "python3"
  },
  "language_info": {
   "codemirror_mode": {
    "name": "ipython",
    "version": 3
   },
   "file_extension": ".py",
   "mimetype": "text/x-python",
   "name": "python",
   "nbconvert_exporter": "python",
   "pygments_lexer": "ipython3",
   "version": "3.8.10"
  }
 },
 "nbformat": 4,
 "nbformat_minor": 5
}
